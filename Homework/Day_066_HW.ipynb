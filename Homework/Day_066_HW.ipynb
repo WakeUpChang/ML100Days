# -*- coding: utf-8 -*-
"""
Created on Wed Aug 26 20:45:17 2020

@author: sandra_chang
"""

import keras
from keras import backend as K

print(keras.__version__)